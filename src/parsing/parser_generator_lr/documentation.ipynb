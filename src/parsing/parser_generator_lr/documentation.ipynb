{
 "cells": [
  {
   "cell_type": "code",
   "execution_count": 5,
   "metadata": {},
   "outputs": [],
   "source": [
    "from grammarLR1 import GrammarLR1\n",
    "from grammarLR0 import GrammarLR0\n",
    "from common.token_class import Token"
   ]
  },
  {
   "cell_type": "code",
   "execution_count": 6,
   "metadata": {},
   "outputs": [
    {
     "name": "stdout",
     "output_type": "stream",
     "text": [
      "State               a                   b                   c                   $                   S                   A                   B                   \n",
      "0                                                           ('s', 3)                                1                   2                                       \n",
      "1                                                                               ('a', 'accept')                                                                 \n",
      "2                   ('s', 4)                                                                                                                                    \n",
      "3                   ('r', 'A', 1)                                                                                                                               \n",
      "4                                                                                                                                           5                   \n",
      "5                                       ('s', 6)                                                                                                                \n",
      "6                                                                               ('r', 'S', 4)                                                                   \n",
      "Parsing error, no transition for $ at state 0\n",
      "\n",
      "ERROR:∅\n"
     ]
    }
   ],
   "source": [
    "from grammarLR1 import GrammarLR1\n",
    "\n",
    "gr = GrammarLR1(\n",
    "    non_terminals=[\"S\", \"A\", \"B\"],\n",
    "    terminals=[\"a\", \"b\", \"c\"],\n",
    "    start_symbol=\"S\",\n",
    "    productions={\n",
    "        \"S\": [[\"A\", \"a\", \"B\", \"b\"]],\n",
    "        \"A\": [[\"c\"]],\n",
    "        \"B\": []\n",
    "    }\n",
    ")\n",
    "ptable = gr.build_parsing_table()\n",
    "print(ptable)\n",
    "\n",
    "tree = ptable.parse(\n",
    "    [Token(x,x, 0, 0) for x in [*list(\"\"), \"$\"]]\n",
    ")\n",
    "\n",
    "tree.root.print([], 0, False)"
   ]
  },
  {
   "cell_type": "code",
   "execution_count": 10,
   "metadata": {},
   "outputs": [
    {
     "name": "stdout",
     "output_type": "stream",
     "text": [
      "State               $                   S                   \n",
      "0                   ('r', 'S', 0)       1                   \n",
      "1                   ('a', 'accept')                         \n",
      "\n",
      "S:S\n"
     ]
    }
   ],
   "source": [
    "\"\"\"\n",
    "An Empty [] means that the production is an epsilon production.\n",
    "\"\"\"\n",
    "\n",
    "gr = GrammarLR0(\n",
    "    non_terminals=[\"S\"],\n",
    "    terminals=[],\n",
    "    start_symbol=\"S\",\n",
    "    productions={\n",
    "        \"S\": [[]],\n",
    "    }\n",
    ")\n",
    "\n",
    "\n",
    "ptable = gr.build_parsing_table()\n",
    "print(ptable)\n",
    "\n",
    "tree = ptable.parse(\n",
    "    [Token(x,x, 0, 0) for x in [*list(\"\"), \"$\"]]\n",
    ")\n",
    "\n",
    "tree.root.print([], 0, False)"
   ]
  }
 ],
 "metadata": {
  "kernelspec": {
   "display_name": "Python 3",
   "language": "python",
   "name": "python3"
  },
  "language_info": {
   "codemirror_mode": {
    "name": "ipython",
    "version": 3
   },
   "file_extension": ".py",
   "mimetype": "text/x-python",
   "name": "python",
   "nbconvert_exporter": "python",
   "pygments_lexer": "ipython3",
   "version": "3.12.3"
  }
 },
 "nbformat": 4,
 "nbformat_minor": 2
}
