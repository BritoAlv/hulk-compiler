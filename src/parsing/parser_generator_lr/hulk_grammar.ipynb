{
 "cells": [
  {
   "cell_type": "code",
   "execution_count": 1,
   "metadata": {},
   "outputs": [],
   "source": [
    "from grammarLR1 import GrammarLR1\n",
    "from grammarLR0 import GrammarLR0\n",
    "from common.token_class import Token"
   ]
  },
  {
   "cell_type": "code",
   "execution_count": 2,
   "metadata": {},
   "outputs": [],
   "source": [
    "def gramophoneSyntaxParser( inputTokens : str) -> GrammarLR1:\n",
    "    non_terminals = []\n",
    "    terminals = []\n",
    "    start_symbol = \"\"\n",
    "    productions = {}\n",
    "    \n",
    "    def add_symbol( symbol : str):\n",
    "        symbol = symbol.strip()\n",
    "        if len(symbol)  == 0:\n",
    "            pass\n",
    "        elif symbol[0].islower():\n",
    "            if symbol not in terminals:\n",
    "                terminals.append(symbol)\n",
    "        else:\n",
    "            if symbol not in non_terminals:\n",
    "                non_terminals.append(symbol)\n",
    "                productions[symbol] = []\n",
    "        return symbol\n",
    "\n",
    "\n",
    "    lines = inputTokens.split(\"\\n\")\n",
    "    for line in lines:\n",
    "        if len(line) > 0:\n",
    "            line = line.strip() \n",
    "            line = line[:-1]\n",
    "            parts = line.split(\"->\")\n",
    "            non_terminal = add_symbol(parts[0])\n",
    "            if start_symbol == \"\":\n",
    "                start_symbol = non_terminal\n",
    "            productionsLine = parts[1].split(\"|\")\n",
    "            for prod in productionsLine:\n",
    "                prod = prod.strip().split(\" \")\n",
    "                prod_to_add = []\n",
    "                for symbol in prod:\n",
    "                    symbol = add_symbol(symbol)\n",
    "                    if len(symbol) > 0:\n",
    "                        prod_to_add.append(symbol)\n",
    "                productions[non_terminal].append(prod_to_add)\n",
    "\n",
    "    print(non_terminals)\n",
    "    print(terminals)\n",
    "    print(start_symbol)\n",
    "    print(productions)\n",
    "    return GrammarLR1(non_terminals, terminals, start_symbol, productions)\n"
   ]
  },
  {
   "cell_type": "code",
   "execution_count": 3,
   "metadata": {},
   "outputs": [
    {
     "name": "stdout",
     "output_type": "stream",
     "text": [
      "['Term', 'FunctionCall', 'ArgCallList', 'ArgsList', 'NonEmptyArgCallList']\n",
      "['lparen', 'rparen', 'comma']\n",
      "Term\n",
      "{'Term': [['FunctionCall']], 'FunctionCall': [['FunctionCall', 'ArgCallList']], 'ArgCallList': [['lparen', 'ArgsList', 'rparen']], 'ArgsList': [['NonEmptyArgCallList'], []], 'NonEmptyArgCallList': [['Term'], ['Term', 'comma', 'NonEmptyArgCallList']]}\n"
     ]
    }
   ],
   "source": [
    "inputTokens = \"\"\"\n",
    "\n",
    "Term -> FunctionCall .\n",
    "\n",
    "FunctionCall -> FunctionCall ArgCallList .\n",
    "\n",
    "ArgCallList -> lparen ArgsList rparen .\n",
    "\n",
    "ArgsList -> NonEmptyArgCallList | .\n",
    "\n",
    "NonEmptyArgCallList -> Term | Term comma NonEmptyArgCallList .\n",
    "\n",
    "\"\"\"\n",
    "\n",
    "gr = gramophoneSyntaxParser(inputTokens)"
   ]
  }
 ],
 "metadata": {
  "kernelspec": {
   "display_name": "Python 3",
   "language": "python",
   "name": "python3"
  },
  "language_info": {
   "codemirror_mode": {
    "name": "ipython",
    "version": 3
   },
   "file_extension": ".py",
   "mimetype": "text/x-python",
   "name": "python",
   "nbconvert_exporter": "python",
   "pygments_lexer": "ipython3",
   "version": "3.12.3"
  }
 },
 "nbformat": 4,
 "nbformat_minor": 2
}
