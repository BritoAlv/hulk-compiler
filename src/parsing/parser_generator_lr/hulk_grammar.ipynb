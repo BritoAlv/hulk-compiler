{
 "cells": [
  {
   "cell_type": "code",
   "execution_count": 2,
   "metadata": {},
   "outputs": [],
   "source": [
    "from grammarLR1 import GrammarLR1\n",
    "from grammarLR0 import GrammarLR0\n",
    "from common.token_class import Token"
   ]
  },
  {
   "cell_type": "code",
   "execution_count": 70,
   "metadata": {},
   "outputs": [],
   "source": [
    "def gramophoneSyntaxParser( inputTokens : str) -> GrammarLR1:\n",
    "    non_terminals = []\n",
    "    terminals = []\n",
    "    start_symbol = \"\"\n",
    "    productions = {}\n",
    "    \n",
    "    def add_symbol( symbol : str):\n",
    "        symbol = symbol.strip()\n",
    "        if len(symbol)  == 0:\n",
    "            pass\n",
    "        elif symbol[0].islower():\n",
    "            if symbol not in terminals:\n",
    "                terminals.append(symbol)\n",
    "        else:\n",
    "            if symbol not in non_terminals:\n",
    "                non_terminals.append(symbol)\n",
    "                productions[symbol] = []\n",
    "        return symbol\n",
    "\n",
    "\n",
    "    lines = inputTokens.split(\"\\n\")\n",
    "    for line in lines:\n",
    "        if len(line) > 0:\n",
    "            line = line.strip() \n",
    "            line = line[:-1]\n",
    "            parts = line.split(\"->\")\n",
    "            non_terminal = add_symbol(parts[0])\n",
    "            if start_symbol == \"\":\n",
    "                start_symbol = non_terminal\n",
    "            productionsLine = parts[1].split(\"|\")\n",
    "            for prod in productionsLine:\n",
    "                prod = prod.strip().split(\" \")\n",
    "                prod_to_add = []\n",
    "                for symbol in prod:\n",
    "                    symbol = add_symbol(symbol)\n",
    "                    if len(symbol) > 0:\n",
    "                        prod_to_add.append(symbol)\n",
    "                productions[non_terminal].append(prod_to_add)\n",
    "\n",
    "    print(non_terminals)\n",
    "    print(terminals)\n",
    "    print(start_symbol)\n",
    "    print(productions)\n",
    "    return GrammarLR1(non_terminals, terminals, start_symbol, productions)\n"
   ]
  },
  {
   "cell_type": "code",
   "execution_count": 69,
   "metadata": {},
   "outputs": [
    {
     "name": "stdout",
     "output_type": "stream",
     "text": [
      "['Term', 'FunctionCall', 'ArgCallList', 'ArgsList', 'NonEmptyArgCallList']\n",
      "['lparen', 'rparen', 'comma']\n",
      "Term\n",
      "{'Term': [['FunctionCall']], 'FunctionCall': [['FunctionCall', 'ArgCallList']], 'ArgCallList': [['lparen', 'ArgsList', 'rparen']], 'ArgsList': [['NonEmptyArgCallList'], []], 'NonEmptyArgCallList': [['Term'], ['Term', 'comma', 'NonEmptyArgCallList']]}\n"
     ]
    },
    {
     "ename": "RuntimeError",
     "evalue": "Edge already exists in the graph",
     "output_type": "error",
     "traceback": [
      "\u001b[0;31m---------------------------------------------------------------------------\u001b[0m",
      "\u001b[0;31mRuntimeError\u001b[0m                              Traceback (most recent call last)",
      "Cell \u001b[0;32mIn[69], line 15\u001b[0m\n\u001b[1;32m      1\u001b[0m inputTokens \u001b[38;5;241m=\u001b[39m \u001b[38;5;124m\"\"\"\u001b[39m\n\u001b[1;32m      2\u001b[0m \n\u001b[1;32m      3\u001b[0m \u001b[38;5;124mTerm -> FunctionCall .\u001b[39m\n\u001b[0;32m   (...)\u001b[0m\n\u001b[1;32m     12\u001b[0m \n\u001b[1;32m     13\u001b[0m \u001b[38;5;124m\"\"\"\u001b[39m\n\u001b[0;32m---> 15\u001b[0m gr \u001b[38;5;241m=\u001b[39m \u001b[43mgramophoneSyntaxParser\u001b[49m\u001b[43m(\u001b[49m\u001b[43minputTokens\u001b[49m\u001b[43m)\u001b[49m\n",
      "Cell \u001b[0;32mIn[68], line 44\u001b[0m, in \u001b[0;36mgramophoneSyntaxParser\u001b[0;34m(inputTokens)\u001b[0m\n\u001b[1;32m     42\u001b[0m \u001b[38;5;28mprint\u001b[39m(start_symbol)\n\u001b[1;32m     43\u001b[0m \u001b[38;5;28mprint\u001b[39m(productions)\n\u001b[0;32m---> 44\u001b[0m \u001b[38;5;28;01mreturn\u001b[39;00m \u001b[43mGrammarLR1\u001b[49m\u001b[43m(\u001b[49m\u001b[43mnon_terminals\u001b[49m\u001b[43m,\u001b[49m\u001b[43m \u001b[49m\u001b[43mterminals\u001b[49m\u001b[43m,\u001b[49m\u001b[43m \u001b[49m\u001b[43mstart_symbol\u001b[49m\u001b[43m,\u001b[49m\u001b[43m \u001b[49m\u001b[43mproductions\u001b[49m\u001b[43m)\u001b[49m\n",
      "File \u001b[0;32m~/proyectos/hulk-compiler/src/parsing/parser_generator_lr/grammarLR1.py:38\u001b[0m, in \u001b[0;36mGrammarLR1.__init__\u001b[0;34m(self, non_terminals, terminals, start_symbol, productions)\u001b[0m\n\u001b[1;32m     36\u001b[0m \u001b[38;5;28mself\u001b[39m\u001b[38;5;241m.\u001b[39mstart_symbol \u001b[38;5;241m=\u001b[39m start_symbol\n\u001b[1;32m     37\u001b[0m \u001b[38;5;28mself\u001b[39m\u001b[38;5;241m.\u001b[39mproductions \u001b[38;5;241m=\u001b[39m productions\n\u001b[0;32m---> 38\u001b[0m \u001b[38;5;28mself\u001b[39m\u001b[38;5;241m.\u001b[39mFirst_Set_Calculator \u001b[38;5;241m=\u001b[39m \u001b[43mFirst_Set_Calculator\u001b[49m\u001b[43m(\u001b[49m\u001b[38;5;28;43mself\u001b[39;49m\u001b[38;5;241;43m.\u001b[39;49m\u001b[43mnon_terminals\u001b[49m\u001b[43m,\u001b[49m\u001b[43m \u001b[49m\u001b[38;5;28;43mself\u001b[39;49m\u001b[38;5;241;43m.\u001b[39;49m\u001b[43mterminals\u001b[49m\u001b[43m,\u001b[49m\u001b[43m \u001b[49m\u001b[38;5;28;43mself\u001b[39;49m\u001b[38;5;241;43m.\u001b[39;49m\u001b[43mstart_symbol\u001b[49m\u001b[43m,\u001b[49m\u001b[43m \u001b[49m\u001b[38;5;28;43mself\u001b[39;49m\u001b[38;5;241;43m.\u001b[39;49m\u001b[43mproductions\u001b[49m\u001b[43m)\u001b[49m\n\u001b[1;32m     39\u001b[0m \u001b[38;5;28mself\u001b[39m\u001b[38;5;241m.\u001b[39mautomatonLR1 \u001b[38;5;241m=\u001b[39m \u001b[38;5;28mself\u001b[39m\u001b[38;5;241m.\u001b[39mbuild_lr1_automaton()\n",
      "File \u001b[0;32m~/proyectos/hulk-compiler/src/parsing/parser_generator_lr/first_set.py:44\u001b[0m, in \u001b[0;36mFirst_Set_Calculator.__init__\u001b[0;34m(self, non_terminals, terminals, start_terminal, productions)\u001b[0m\n\u001b[1;32m     42\u001b[0m \u001b[38;5;66;03m# Build first sets\u001b[39;00m\n\u001b[1;32m     43\u001b[0m \u001b[38;5;28;01mfor\u001b[39;00m element \u001b[38;5;129;01min\u001b[39;00m (\u001b[38;5;28mself\u001b[39m\u001b[38;5;241m.\u001b[39mnon_terminals \u001b[38;5;241m+\u001b[39m \u001b[38;5;28mself\u001b[39m\u001b[38;5;241m.\u001b[39mterminals):\n\u001b[0;32m---> 44\u001b[0m     \u001b[38;5;28;43mself\u001b[39;49m\u001b[38;5;241;43m.\u001b[39;49m\u001b[43mfirst_set\u001b[49m\u001b[43m(\u001b[49m\u001b[43melement\u001b[49m\u001b[43m)\u001b[49m\n",
      "File \u001b[0;32m~/proyectos/hulk-compiler/src/parsing/parser_generator_lr/first_set.py:118\u001b[0m, in \u001b[0;36mFirst_Set_Calculator.first_set\u001b[0;34m(self, element)\u001b[0m\n\u001b[1;32m    115\u001b[0m     \u001b[38;5;28mself\u001b[39m\u001b[38;5;241m.\u001b[39m_derivation_graph\u001b[38;5;241m.\u001b[39mremove((element, product))\n\u001b[1;32m    116\u001b[0m     \u001b[38;5;28;01mcontinue\u001b[39;00m\n\u001b[0;32m--> 118\u001b[0m \u001b[38;5;28;01mfor\u001b[39;00m terminal \u001b[38;5;129;01min\u001b[39;00m \u001b[38;5;28;43mself\u001b[39;49m\u001b[38;5;241;43m.\u001b[39;49m\u001b[43mfirst_set\u001b[49m\u001b[43m(\u001b[49m\u001b[43mproduct\u001b[49m\u001b[43m)\u001b[49m:\n\u001b[1;32m    119\u001b[0m     \u001b[38;5;28;01mif\u001b[39;00m terminal \u001b[38;5;129;01mnot\u001b[39;00m \u001b[38;5;129;01min\u001b[39;00m first_set:\n\u001b[1;32m    120\u001b[0m         first_set\u001b[38;5;241m.\u001b[39mappend(terminal)\n",
      "File \u001b[0;32m~/proyectos/hulk-compiler/src/parsing/parser_generator_lr/first_set.py:111\u001b[0m, in \u001b[0;36mFirst_Set_Calculator.first_set\u001b[0;34m(self, element)\u001b[0m\n\u001b[1;32m    105\u001b[0m \u001b[38;5;28;01mfor\u001b[39;00m product \u001b[38;5;129;01min\u001b[39;00m production:\n\u001b[1;32m    106\u001b[0m     \u001b[38;5;66;03m# A -> B1,B2,...,Bk\u001b[39;00m\n\u001b[1;32m    107\u001b[0m     \u001b[38;5;66;03m# First(B1) ⊆ First(A) and if B1 ->*epsilon, then First(B2) ⊆ First(A), and if B2 ->*epsilon, then First(B3) ⊆ First(A), ..., and so on.\u001b[39;00m\n\u001b[1;32m    108\u001b[0m \n\u001b[1;32m    109\u001b[0m     \u001b[38;5;66;03m# If it's a non terminal add edge to null graph\u001b[39;00m\n\u001b[1;32m    110\u001b[0m     \u001b[38;5;28;01mif\u001b[39;00m product \u001b[38;5;129;01min\u001b[39;00m \u001b[38;5;28mself\u001b[39m\u001b[38;5;241m.\u001b[39mnon_terminals:\n\u001b[0;32m--> 111\u001b[0m         \u001b[38;5;28;43mself\u001b[39;49m\u001b[38;5;241;43m.\u001b[39;49m\u001b[43m_derivation_graph\u001b[49m\u001b[38;5;241;43m.\u001b[39;49m\u001b[43madd\u001b[49m\u001b[43m(\u001b[49m\u001b[43m(\u001b[49m\u001b[43melement\u001b[49m\u001b[43m,\u001b[49m\u001b[43m \u001b[49m\u001b[43mproduct\u001b[49m\u001b[43m)\u001b[49m\u001b[43m)\u001b[49m\n\u001b[1;32m    113\u001b[0m     \u001b[38;5;66;03m# Verify null graph is cyclic, if so remove the edge and discard product\u001b[39;00m\n\u001b[1;32m    114\u001b[0m     \u001b[38;5;28;01mif\u001b[39;00m \u001b[38;5;28mself\u001b[39m\u001b[38;5;241m.\u001b[39m_derivation_graph\u001b[38;5;241m.\u001b[39mis_cyclic():\n",
      "File \u001b[0;32m~/proyectos/hulk-compiler/src/parsing/parser_generator/graph.py:10\u001b[0m, in \u001b[0;36mGraph.add\u001b[0;34m(self, pair)\u001b[0m\n\u001b[1;32m      7\u001b[0m \u001b[38;5;28;01mif\u001b[39;00m pair[\u001b[38;5;241m0\u001b[39m] \u001b[38;5;129;01min\u001b[39;00m \u001b[38;5;28mself\u001b[39m\u001b[38;5;241m.\u001b[39mvertices: \u001b[38;5;66;03m# Verify that the first vertex is in the graph\u001b[39;00m\n\u001b[1;32m      8\u001b[0m     \u001b[38;5;66;03m# Verify that the edge already exists \u001b[39;00m\n\u001b[1;32m      9\u001b[0m     \u001b[38;5;28;01mif\u001b[39;00m pair[\u001b[38;5;241m1\u001b[39m] \u001b[38;5;129;01min\u001b[39;00m \u001b[38;5;28mself\u001b[39m\u001b[38;5;241m.\u001b[39mvertices[pair[\u001b[38;5;241m0\u001b[39m]]:\n\u001b[0;32m---> 10\u001b[0m         \u001b[38;5;28;01mraise\u001b[39;00m \u001b[38;5;167;01mRuntimeError\u001b[39;00m(\u001b[38;5;124m\"\u001b[39m\u001b[38;5;124mEdge already exists in the graph\u001b[39m\u001b[38;5;124m\"\u001b[39m)\n\u001b[1;32m     11\u001b[0m     \u001b[38;5;66;03m# If the edge does not exist then add it\u001b[39;00m\n\u001b[1;32m     12\u001b[0m     \u001b[38;5;28mself\u001b[39m\u001b[38;5;241m.\u001b[39mvertices[pair[\u001b[38;5;241m0\u001b[39m]]\u001b[38;5;241m.\u001b[39mappend(pair[\u001b[38;5;241m1\u001b[39m])\n",
      "\u001b[0;31mRuntimeError\u001b[0m: Edge already exists in the graph"
     ]
    }
   ],
   "source": [
    "inputTokens = \"\"\"\n",
    "\n",
    "Term -> FunctionCall .\n",
    "\n",
    "FunctionCall -> FunctionCall ArgCallList .\n",
    "\n",
    "ArgCallList -> lparen ArgsList rparen .\n",
    "\n",
    "ArgsList -> NonEmptyArgCallList | .\n",
    "\n",
    "NonEmptyArgCallList -> Term | Term comma NonEmptyArgCallList .\n",
    "\n",
    "\"\"\"\n",
    "\n",
    "gr = gramophoneSyntaxParser(inputTokens)"
   ]
  }
 ],
 "metadata": {
  "kernelspec": {
   "display_name": "Python 3",
   "language": "python",
   "name": "python3"
  },
  "language_info": {
   "codemirror_mode": {
    "name": "ipython",
    "version": 3
   },
   "file_extension": ".py",
   "mimetype": "text/x-python",
   "name": "python",
   "nbconvert_exporter": "python",
   "pygments_lexer": "ipython3",
   "version": "3.12.3"
  }
 },
 "nbformat": 4,
 "nbformat_minor": 2
}
