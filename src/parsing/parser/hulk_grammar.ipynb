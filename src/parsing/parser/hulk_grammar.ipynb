{
 "cells": [
  {
   "cell_type": "code",
   "execution_count": 5,
   "metadata": {},
   "outputs": [],
   "source": [
    "from parsing.parser_generator_lr.grammarLR1 import GrammarLR1\n",
    "from common.token_class import Token"
   ]
  },
  {
   "cell_type": "code",
   "execution_count": 1,
   "metadata": {},
   "outputs": [
    {
     "ename": "KeyboardInterrupt",
     "evalue": "",
     "output_type": "error",
     "traceback": [
      "\u001b[0;31m---------------------------------------------------------------------------\u001b[0m",
      "\u001b[0;31mKeyboardInterrupt\u001b[0m                         Traceback (most recent call last)",
      "Cell \u001b[0;32mIn[1], line 7\u001b[0m\n\u001b[1;32m      4\u001b[0m \u001b[38;5;28;01mwith\u001b[39;00m \u001b[38;5;28mopen\u001b[39m(\u001b[38;5;124m'\u001b[39m\u001b[38;5;124mdocumentation.txt\u001b[39m\u001b[38;5;124m'\u001b[39m, \u001b[38;5;124m'\u001b[39m\u001b[38;5;124mr\u001b[39m\u001b[38;5;124m'\u001b[39m) \u001b[38;5;28;01mas\u001b[39;00m file:\n\u001b[1;32m      5\u001b[0m     inputHulkGrammar \u001b[38;5;241m=\u001b[39m file\u001b[38;5;241m.\u001b[39mread()\n\u001b[0;32m----> 7\u001b[0m grHulk \u001b[38;5;241m=\u001b[39m \u001b[43mgramophoneSyntaxParser\u001b[49m\u001b[43m(\u001b[49m\u001b[43minputHulkGrammar\u001b[49m\u001b[43m,\u001b[49m\u001b[43m \u001b[49m\u001b[38;5;124;43m\"\u001b[39;49m\u001b[38;5;124;43mhulk_grammar\u001b[39;49m\u001b[38;5;124;43m\"\u001b[39;49m\u001b[43m)\u001b[49m\n",
      "File \u001b[0;32m~/proyectos/hulk-compiler/src/parsing/parser_generator_lr/utils.py:42\u001b[0m, in \u001b[0;36mgramophoneSyntaxParser\u001b[0;34m(inputTokens, name)\u001b[0m\n\u001b[1;32m     39\u001b[0m                     prod_to_add\u001b[38;5;241m.\u001b[39mappend(symbol)\n\u001b[1;32m     40\u001b[0m             productions[non_terminal]\u001b[38;5;241m.\u001b[39mappend(prod_to_add)\n\u001b[0;32m---> 42\u001b[0m \u001b[38;5;28;01mreturn\u001b[39;00m \u001b[43mGrammarLR1\u001b[49m\u001b[43m(\u001b[49m\u001b[43mname\u001b[49m\u001b[43m,\u001b[49m\u001b[43m \u001b[49m\u001b[43mnon_terminals\u001b[49m\u001b[43m,\u001b[49m\u001b[43m \u001b[49m\u001b[43mterminals\u001b[49m\u001b[43m,\u001b[49m\u001b[43m \u001b[49m\u001b[43mstart_symbol\u001b[49m\u001b[43m,\u001b[49m\u001b[43m \u001b[49m\u001b[43mproductions\u001b[49m\u001b[43m)\u001b[49m\n",
      "File \u001b[0;32m~/proyectos/hulk-compiler/src/parsing/parser_generator_lr/grammarLR1.py:36\u001b[0m, in \u001b[0;36mGrammarLR1.__init__\u001b[0;34m(self, name, non_terminals, terminals, start_symbol, productions)\u001b[0m\n\u001b[1;32m     27\u001b[0m \u001b[38;5;28;01mdef\u001b[39;00m \u001b[38;5;21m__init__\u001b[39m(\n\u001b[1;32m     28\u001b[0m     \u001b[38;5;28mself\u001b[39m,\n\u001b[1;32m     29\u001b[0m     name : \u001b[38;5;28mstr\u001b[39m,\n\u001b[0;32m   (...)\u001b[0m\n\u001b[1;32m     33\u001b[0m     productions: \u001b[38;5;28mdict\u001b[39m[\u001b[38;5;28mstr\u001b[39m, \u001b[38;5;28mlist\u001b[39m[\u001b[38;5;28mlist\u001b[39m[\u001b[38;5;28mstr\u001b[39m]]],\n\u001b[1;32m     34\u001b[0m ) \u001b[38;5;241m-\u001b[39m\u001b[38;5;241m>\u001b[39m \u001b[38;5;28;01mNone\u001b[39;00m:\n\u001b[1;32m     35\u001b[0m     \u001b[38;5;28mself\u001b[39m\u001b[38;5;241m.\u001b[39mFirst_Set_Calculator \u001b[38;5;241m=\u001b[39m First_Set_Calculator(non_terminals, terminals \u001b[38;5;241m+\u001b[39m [\u001b[38;5;124m\"\u001b[39m\u001b[38;5;124m$\u001b[39m\u001b[38;5;124m\"\u001b[39m], start_symbol, productions)\n\u001b[0;32m---> 36\u001b[0m     \u001b[38;5;28;43msuper\u001b[39;49m\u001b[43m(\u001b[49m\u001b[43m)\u001b[49m\u001b[38;5;241;43m.\u001b[39;49m\u001b[38;5;21;43m__init__\u001b[39;49m\u001b[43m(\u001b[49m\u001b[43mname\u001b[49m\u001b[43m,\u001b[49m\u001b[43m \u001b[49m\u001b[43mnon_terminals\u001b[49m\u001b[43m,\u001b[49m\u001b[43m \u001b[49m\u001b[43mterminals\u001b[49m\u001b[43m,\u001b[49m\u001b[43m \u001b[49m\u001b[43mstart_symbol\u001b[49m\u001b[43m,\u001b[49m\u001b[43m \u001b[49m\u001b[43mproductions\u001b[49m\u001b[43m)\u001b[49m\n",
      "File \u001b[0;32m~/proyectos/hulk-compiler/src/parsing/parser_generator_lr/grammar.py:23\u001b[0m, in \u001b[0;36mGrammar.__init__\u001b[0;34m(self, name, non_terminals, terminals, start_symbol, productions)\u001b[0m\n\u001b[1;32m     21\u001b[0m \u001b[38;5;28mself\u001b[39m\u001b[38;5;241m.\u001b[39mstart_symbol \u001b[38;5;241m=\u001b[39m start_symbol\n\u001b[1;32m     22\u001b[0m \u001b[38;5;28mself\u001b[39m\u001b[38;5;241m.\u001b[39mproductions \u001b[38;5;241m=\u001b[39m productions\n\u001b[0;32m---> 23\u001b[0m \u001b[38;5;28mself\u001b[39m\u001b[38;5;241m.\u001b[39mautomaton \u001b[38;5;241m=\u001b[39m \u001b[38;5;28;43mself\u001b[39;49m\u001b[38;5;241;43m.\u001b[39;49m\u001b[43mbuildAutomaton\u001b[49m\u001b[43m(\u001b[49m\u001b[43m)\u001b[49m\n",
      "File \u001b[0;32m~/proyectos/hulk-compiler/src/parsing/parser_generator_lr/grammarLR1.py:40\u001b[0m, in \u001b[0;36mGrammarLR1.buildAutomaton\u001b[0;34m(self)\u001b[0m\n\u001b[1;32m     39\u001b[0m \u001b[38;5;28;01mdef\u001b[39;00m \u001b[38;5;21mbuildAutomaton\u001b[39m(\u001b[38;5;28mself\u001b[39m) \u001b[38;5;241m-\u001b[39m\u001b[38;5;241m>\u001b[39m DFA:\n\u001b[0;32m---> 40\u001b[0m     \u001b[38;5;28;01mreturn\u001b[39;00m \u001b[38;5;28;43mself\u001b[39;49m\u001b[38;5;241;43m.\u001b[39;49m\u001b[43mbuild_lr1_automaton\u001b[49m\u001b[43m(\u001b[49m\u001b[43m)\u001b[49m\n",
      "File \u001b[0;32m~/proyectos/hulk-compiler/src/parsing/parser_generator_lr/grammarLR1.py:82\u001b[0m, in \u001b[0;36mGrammarLR1.build_lr1_automaton\u001b[0;34m(self)\u001b[0m\n\u001b[1;32m     79\u001b[0m             add_transition(EPSILON, \u001b[38;5;28mnext\u001b[39m, new_st)\n\u001b[1;32m     81\u001b[0m new_st \u001b[38;5;241m=\u001b[39m LR1Item(\u001b[38;5;28mnext\u001b[39m\u001b[38;5;241m.\u001b[39mproduction, \u001b[38;5;28mnext\u001b[39m\u001b[38;5;241m.\u001b[39mdot_index \u001b[38;5;241m+\u001b[39m \u001b[38;5;241m1\u001b[39m, \u001b[38;5;28mnext\u001b[39m\u001b[38;5;241m.\u001b[39mprod_key, \u001b[38;5;28mnext\u001b[39m\u001b[38;5;241m.\u001b[39mlookahead)\n\u001b[0;32m---> 82\u001b[0m \u001b[38;5;28;01mif\u001b[39;00m \u001b[43madd_new_state\u001b[49m\u001b[43m(\u001b[49m\u001b[43mnew_st\u001b[49m\u001b[43m)\u001b[49m:\n\u001b[1;32m     83\u001b[0m     pending\u001b[38;5;241m.\u001b[39mappend(new_st)\n\u001b[1;32m     84\u001b[0m add_transition(next_symbol, \u001b[38;5;28mnext\u001b[39m, new_st)\n",
      "File \u001b[0;32m~/proyectos/hulk-compiler/src/parsing/parser_generator_lr/grammarLR1.py:50\u001b[0m, in \u001b[0;36mGrammarLR1.build_lr1_automaton.<locals>.add_new_state\u001b[0;34m(st)\u001b[0m\n\u001b[1;32m     49\u001b[0m \u001b[38;5;28;01mdef\u001b[39;00m \u001b[38;5;21madd_new_state\u001b[39m(st: LR1Item) \u001b[38;5;241m-\u001b[39m\u001b[38;5;241m>\u001b[39m \u001b[38;5;28mbool\u001b[39m:\n\u001b[0;32m---> 50\u001b[0m     \u001b[38;5;28;01mif\u001b[39;00m \u001b[43mst\u001b[49m\u001b[43m \u001b[49m\u001b[38;5;129;43;01mnot\u001b[39;49;00m\u001b[43m \u001b[49m\u001b[38;5;129;43;01min\u001b[39;49;00m\u001b[43m \u001b[49m\u001b[43mmapped\u001b[49m:\n\u001b[1;32m     51\u001b[0m         mapped\u001b[38;5;241m.\u001b[39mappend(st)\n\u001b[1;32m     52\u001b[0m         \u001b[38;5;28;01mreturn\u001b[39;00m \u001b[38;5;28;01mTrue\u001b[39;00m\n",
      "File \u001b[0;32m~/proyectos/hulk-compiler/src/parsing/parser_generator_lr/grammarLR1.py:20\u001b[0m, in \u001b[0;36mLR1Item.__eq__\u001b[0;34m(self, value)\u001b[0m\n\u001b[1;32m     17\u001b[0m \u001b[38;5;28;01mdef\u001b[39;00m \u001b[38;5;21m__str__\u001b[39m(\u001b[38;5;28mself\u001b[39m) \u001b[38;5;241m-\u001b[39m\u001b[38;5;241m>\u001b[39m \u001b[38;5;28mstr\u001b[39m:\n\u001b[1;32m     18\u001b[0m     \u001b[38;5;28;01mreturn\u001b[39;00m \u001b[38;5;124mf\u001b[39m\u001b[38;5;124m\"\u001b[39m\u001b[38;5;132;01m{\u001b[39;00m\u001b[38;5;28mself\u001b[39m\u001b[38;5;241m.\u001b[39mprod_key\u001b[38;5;132;01m}\u001b[39;00m\u001b[38;5;124m -> \u001b[39m\u001b[38;5;132;01m{\u001b[39;00m\u001b[38;5;124m'\u001b[39m\u001b[38;5;124m \u001b[39m\u001b[38;5;124m'\u001b[39m\u001b[38;5;241m.\u001b[39mjoin(\u001b[38;5;28mself\u001b[39m\u001b[38;5;241m.\u001b[39mproduction[:\u001b[38;5;28mself\u001b[39m\u001b[38;5;241m.\u001b[39mdot_index])\u001b[38;5;132;01m}\u001b[39;00m\u001b[38;5;124m . \u001b[39m\u001b[38;5;132;01m{\u001b[39;00m\u001b[38;5;124m'\u001b[39m\u001b[38;5;124m \u001b[39m\u001b[38;5;124m'\u001b[39m\u001b[38;5;241m.\u001b[39mjoin(\u001b[38;5;28mself\u001b[39m\u001b[38;5;241m.\u001b[39mproduction[\u001b[38;5;28mself\u001b[39m\u001b[38;5;241m.\u001b[39mdot_index:])\u001b[38;5;132;01m}\u001b[39;00m\u001b[38;5;124m, \u001b[39m\u001b[38;5;132;01m{\u001b[39;00m\u001b[38;5;28mself\u001b[39m\u001b[38;5;241m.\u001b[39mlookahead\u001b[38;5;132;01m}\u001b[39;00m\u001b[38;5;124m\"\u001b[39m\n\u001b[0;32m---> 20\u001b[0m \u001b[38;5;28;01mdef\u001b[39;00m \u001b[38;5;21m__eq__\u001b[39m(\u001b[38;5;28mself\u001b[39m, value: \u001b[38;5;28mobject\u001b[39m) \u001b[38;5;241m-\u001b[39m\u001b[38;5;241m>\u001b[39m \u001b[38;5;28mbool\u001b[39m:\n\u001b[1;32m     21\u001b[0m     \u001b[38;5;28;01mif\u001b[39;00m \u001b[38;5;129;01mnot\u001b[39;00m \u001b[38;5;28misinstance\u001b[39m(value, LR1Item):\n\u001b[1;32m     22\u001b[0m         \u001b[38;5;28;01mreturn\u001b[39;00m \u001b[38;5;28;01mFalse\u001b[39;00m\n",
      "\u001b[0;31mKeyboardInterrupt\u001b[0m: "
     ]
    }
   ],
   "source": [
    "from parsing.parser_generator_lr.utils import gramophoneSyntaxParser\n",
    "\n",
    "\n",
    "with open('documentation.txt', 'r') as file:\n",
    "    inputHulkGrammar = file.read()\n",
    "\n",
    "grHulk = gramophoneSyntaxParser(inputHulkGrammar, \"hulk_grammar\")\n"
   ]
  },
  {
   "cell_type": "code",
   "execution_count": null,
   "metadata": {},
   "outputs": [
    {
     "ename": "AttributeError",
     "evalue": "'GrammarLR1' object has no attribute 'BuildParsingTable'",
     "output_type": "error",
     "traceback": [
      "\u001b[0;31m---------------------------------------------------------------------------\u001b[0m",
      "\u001b[0;31mAttributeError\u001b[0m                            Traceback (most recent call last)",
      "Cell \u001b[0;32mIn[24], line 1\u001b[0m\n\u001b[0;32m----> 1\u001b[0m tableHulk \u001b[38;5;241m=\u001b[39m \u001b[43mgrHulk\u001b[49m\u001b[38;5;241;43m.\u001b[39;49m\u001b[43mBuildParsingTable\u001b[49m()\n\u001b[1;32m      2\u001b[0m \u001b[38;5;28mprint\u001b[39m(tableHulk)\n",
      "\u001b[0;31mAttributeError\u001b[0m: 'GrammarLR1' object has no attribute 'BuildParsingTable'"
     ]
    }
   ],
   "source": [
    "tableHulk = grHulk.BuildParsingTable()\n",
    "print(tableHulk)"
   ]
  },
  {
   "cell_type": "markdown",
   "metadata": {},
   "source": [
    "### Test 1"
   ]
  },
  {
   "cell_type": "code",
   "execution_count": null,
   "metadata": {},
   "outputs": [
    {
     "name": "stdout",
     "output_type": "stream",
     "text": [
      "Parsing error, no transition for $ at state 1\n",
      "\n",
      "ERROR:∅\n"
     ]
    }
   ],
   "source": [
    "node = tableHulk.parse(\n",
    "    [Token(x, x, 0, 0) for x in [\n",
    "        'lbrace',\n",
    "        'let', 'id', 'colon', 'id', 'equal', 'id', 'plus', 'number', 'in', 'lparen', 'number', 'rparen', 'semicolon',\n",
    "        \n",
    "        'id', 'destrucOp', 'lparen', 'number', 'plus', 'number', 'rparen', 'semicolon',\n",
    "\n",
    "        'number', 'semicolon',\n",
    "\n",
    "        'id', 'dot', 'id', 'semicolon',\n",
    "\n",
    "        'id', 'dot', 'id', 'dot', 'id', 'lparen', 'rparen', 'semicolon',\n",
    "        'rbrace', 'semicolon',\n",
    "        '$']]\n",
    ")\n",
    "\n",
    "node.root.print([0], 0, True)"
   ]
  },
  {
   "cell_type": "markdown",
   "metadata": {},
   "source": [
    "### Test 2"
   ]
  },
  {
   "cell_type": "code",
   "execution_count": null,
   "metadata": {},
   "outputs": [
    {
     "name": "stdout",
     "output_type": "stream",
     "text": [
      "Parsing error, no transition for $ at state 1\n",
      "\n",
      "ERROR:∅\n"
     ]
    }
   ],
   "source": [
    "node = tableHulk.parse(\n",
    "    [Token(x, x, 0, 0) for x in [\n",
    "        'lbrace',\n",
    "        'id', 'dot', 'id', 'dot', 'id', 'lparen', 'number', 'comma', 'id', 'comma', 'id', 'lparen', 'rparen', 'rparen', 'semicolon',\n",
    "        \n",
    "        'id', 'lbracket', 'number', 'rbracket', 'dot', 'id', 'lparen', 'rparen', 'semicolon',\n",
    "\n",
    "        'number', 'powerOp', 'number', 'plus', 'id', 'lparen', 'rparen', 'semicolon',\n",
    "\n",
    "        'lbrace', \n",
    "            'id', 'destrucOp', 'lparen', 'let', 'id', 'colon', 'id', 'equal', 'id', 'plus', 'number', 'in', 'lparen', 'number', 'rparen', 'rparen', 'semicolon'\n",
    "        ,'rbrace', 'semicolon',\n",
    "        'rbrace', 'semicolon',\n",
    "        '$']]\n",
    ")\n",
    "\n",
    "node.root.print([0], 0, True)"
   ]
  },
  {
   "cell_type": "markdown",
   "metadata": {},
   "source": [
    "### Test 3"
   ]
  },
  {
   "cell_type": "code",
   "execution_count": null,
   "metadata": {},
   "outputs": [
    {
     "name": "stdout",
     "output_type": "stream",
     "text": [
      "Parsing error, no transition for $ at state 1\n",
      "\n",
      "ERROR:∅\n"
     ]
    }
   ],
   "source": [
    "node = tableHulk.parse(\n",
    "    [Token(x, x, 0, 0) for x in [\n",
    "        'lbrace',\n",
    "        'while', 'lparen', 'true', 'rparen', 'number', 'semicolon', \n",
    "\n",
    "        'while', 'lparen', 'while', 'lparen', 'false', 'rparen', 'lbrace', 'id', 'semicolon', 'rbrace', 'rparen', 'number', 'semicolon',\n",
    "\n",
    "        'if', 'lparen', 'id', 'doubleEqual', 'id', 'rparen', \n",
    "            'string',\n",
    "        'else',\n",
    "            'string',\n",
    "        'semicolon',\n",
    "        'rbrace', 'semicolon',\n",
    "        '$']]\n",
    ")\n",
    "\n",
    "node.root.print([0], 0, True)"
   ]
  },
  {
   "cell_type": "markdown",
   "metadata": {},
   "source": [
    "### Test 4"
   ]
  },
  {
   "cell_type": "code",
   "execution_count": null,
   "metadata": {},
   "outputs": [
    {
     "name": "stdout",
     "output_type": "stream",
     "text": [
      "Parsing error, no transition for $ at state 1\n",
      "\n",
      "ERROR:∅\n"
     ]
    }
   ],
   "source": [
    "node = tableHulk.parse(\n",
    "    [Token(x, x, 0, 0) for x in [\n",
    "        'lbrace',\n",
    "        'if', 'lparen', 'id', 'doubleEqual', 'id', 'rparen', \n",
    "            'string',\n",
    "        'elif', 'lparen', 'number', 'greater', 'id', 'rparen',\n",
    "            'id', 'lparen', 'rparen', 'lbracket', 'id', 'rbracket',\n",
    "        'else',\n",
    "            'string',\n",
    "        'semicolon',\n",
    "\n",
    "        'for', 'lparen', 'id', 'in', 'lbracket', 'number', 'comma', 'number', 'comma', 'number', 'comma', 'number', 'rbracket', 'rparen', 'id', 'lparen', 'id', 'comma', 'id','rparen', 'semicolon',\n",
    "        'rbrace', 'semicolon',\n",
    "        '$']]\n",
    ")\n",
    "\n",
    "node.root.print([0], 0, True)"
   ]
  },
  {
   "cell_type": "markdown",
   "metadata": {},
   "source": [
    "### Test 5"
   ]
  },
  {
   "cell_type": "code",
   "execution_count": null,
   "metadata": {},
   "outputs": [
    {
     "name": "stdout",
     "output_type": "stream",
     "text": [
      "Parsing error, no transition for $ at state 1\n",
      "\n",
      "ERROR:∅\n"
     ]
    }
   ],
   "source": [
    "node = tableHulk.parse(\n",
    "    [Token(x, x, 0, 0) for x in [\n",
    "        'function', 'id', 'lparen', 'id', 'rparen', 'arrow', 'id', 'lparen', 'id', 'rparen', 'div', 'id', 'lparen', 'id', 'rparen', 'semicolon',\n",
    "        'function', 'id', 'lparen', 'id', 'comma', 'id', 'rparen', \n",
    "        'lbrace',\n",
    "            'id', 'lparen', 'id', 'plus', 'id', 'rparen', 'semicolon',\n",
    "            'id', 'lparen', 'id', 'minus', 'id', 'rparen', 'semicolon',\n",
    "            'id', 'lparen', 'id', 'star', 'id', 'rparen', 'semicolon',\n",
    "        'rbrace', 'semicolon', \n",
    "\n",
    "        'lbrace',\n",
    "\n",
    "        'id', 'lparen', 'lparen', 'lparen', 'lparen', 'number', 'plus', 'number', 'rparen', 'powerOp', 'number', 'rparen', 'star', 'number', 'rparen', 'div', 'number' ,'rparen', 'semicolon',\n",
    "        \n",
    "        'id', 'lparen', 'string', 'at', 'number', 'rparen', 'semicolon',\n",
    "\n",
    "        'lbrace', \n",
    "            'id', 'lparen', 'number', 'rparen', 'semicolon',\n",
    "            'id', 'lparen', 'id', 'lparen', 'rparen', 'rparen', 'semicolon',\n",
    "            'id', 'lparen', 'string', 'rparen', 'semicolon',\n",
    "        'rbrace', 'semicolon',\n",
    "\n",
    "        'id', 'lparen', 'id', 'lparen','rparen', 'powerOp', 'number', 'rparen', 'semicolon',\n",
    "        'rbrace', 'semicolon',\n",
    "        '$']]\n",
    ")\n",
    "\n",
    "node.root.print([0], 0, True)"
   ]
  },
  {
   "cell_type": "markdown",
   "metadata": {},
   "source": [
    "### Test 6"
   ]
  },
  {
   "cell_type": "code",
   "execution_count": null,
   "metadata": {},
   "outputs": [
    {
     "name": "stdout",
     "output_type": "stream",
     "text": [
      "Parsing error, no transition for $ at state 1\n",
      "\n",
      "ERROR:∅\n"
     ]
    }
   ],
   "source": [
    "node = tableHulk.parse(\n",
    "    [Token(x, x, 0, 0) for x in [\n",
    "        'lbrace',\n",
    "\n",
    "        'let', 'id', 'equal', 'string', 'in', 'id', 'lparen', 'string', 'rparen', 'semicolon',\n",
    "\n",
    "        'let', 'id', 'equal', 'number', 'comma', 'id', 'equal', 'string', 'in', 'id', 'lparen', 'id', 'at', 'id', 'rparen', 'semicolon',\n",
    "\n",
    "        'let', 'id', 'equal', 'number', 'in',\n",
    "            'let', 'id', 'equal', 'string', 'in',\n",
    "                'id', 'lparen', 'id', 'at', 'id', 'rparen', 'semicolon',\n",
    "\n",
    "        'let', 'id', 'equal', 'number', 'comma', 'id', 'equal', 'number', 'comma', 'id', 'equal', 'number', 'in', \n",
    "        'lbrace', \n",
    "            'id', 'lparen', 'number', 'rparen', 'semicolon',\n",
    "            'id', 'lparen', 'id', 'lparen', 'rparen', 'rparen', 'semicolon',\n",
    "            'id', 'lparen', 'string', 'rparen', 'semicolon',\n",
    "        'rbrace', 'semicolon',\n",
    "\n",
    "        'let', 'id', 'equal', 'number', 'in', \n",
    "        'lbrace',\n",
    "            'let', 'id', 'equal', 'number', 'in', 'id', 'lparen', 'id', 'rparen', 'semicolon',\n",
    "        'rbrace', 'semicolon',\n",
    "        'rbrace', 'semicolon',\n",
    "        '$']]\n",
    ")\n",
    "\n",
    "node.root.print([0], 0, True)"
   ]
  },
  {
   "cell_type": "markdown",
   "metadata": {},
   "source": [
    "### Test 7"
   ]
  },
  {
   "cell_type": "code",
   "execution_count": null,
   "metadata": {},
   "outputs": [
    {
     "name": "stdout",
     "output_type": "stream",
     "text": [
      "Parsing error, no transition for $ at state 1\n",
      "\n",
      "ERROR:∅\n"
     ]
    }
   ],
   "source": [
    "node = tableHulk.parse(\n",
    "    [Token(x, x, 0, 0) for x in [\n",
    "        'type', 'id', \n",
    "        'lbrace',\n",
    "            'id', 'equal', 'number', 'semicolon',\n",
    "            'id', 'equal', 'number', 'semicolon',\n",
    "\n",
    "            'id', 'lparen', 'rparen', 'arrow', 'self', 'dot', 'id', 'semicolon',\n",
    "            'id', 'lparen', 'rparen', 'arrow', 'self', 'dot', 'id', 'semicolon',\n",
    "\n",
    "            'id', 'lparen', 'id', 'rparen', 'arrow', 'self', 'dot', 'id', 'destrucOp', 'id',  'semicolon',\n",
    "            'id', 'lparen', 'id', 'rparen', 'arrow', 'self', 'dot', 'id', 'destrucOp', 'id',  'semicolon',\n",
    "        'rbrace',\n",
    "\n",
    "        'type', 'id', 'lparen', 'id', 'colon', 'id', 'comma', 'id','rparen', \n",
    "        'lbrace',\n",
    "            'id', 'equal', 'number', 'semicolon',\n",
    "            'id', 'equal', 'number', 'semicolon',\n",
    "\n",
    "            'id', 'lparen', 'rparen', 'arrow', 'self', 'dot', 'id', 'semicolon',\n",
    "            'id', 'lparen', 'rparen', 'arrow', 'self', 'dot', 'id', 'semicolon',\n",
    "\n",
    "            'id', 'lparen', 'id', 'rparen', 'arrow', 'self', 'dot', 'id', 'destrucOp', 'id',  'semicolon',\n",
    "            'id', 'lparen', 'id', 'rparen', 'arrow', 'self', 'dot', 'id', 'destrucOp', 'id',  'semicolon',\n",
    "        'rbrace',\n",
    "\n",
    "        'type', 'id', 'lparen', 'id', 'colon', 'id', 'comma', 'id','rparen', 'inherits', 'id',\n",
    "        'lbrace',\n",
    "            'id', 'equal', 'number', 'semicolon',\n",
    "            'id', 'equal', 'number', 'semicolon',\n",
    "\n",
    "            'id', 'lparen', 'rparen', 'arrow', 'self', 'dot', 'id', 'semicolon',\n",
    "            'id', 'lparen', 'rparen', 'arrow', 'self', 'dot', 'id', 'semicolon',\n",
    "\n",
    "            'id', 'lparen', 'id', 'rparen', 'arrow', 'self', 'dot', 'id', 'destrucOp', 'id',  'semicolon',\n",
    "            'id', 'lparen', 'id', 'rparen', 'arrow', 'self', 'dot', 'id', 'destrucOp', 'id',  'semicolon',\n",
    "        'rbrace',\n",
    "\n",
    "        'type', 'id', 'lparen', 'id', 'colon', 'id', 'comma', 'id','rparen', 'inherits', 'id', 'lparen', 'id', 'comma', 'id' , 'rparen',\n",
    "        'lbrace',\n",
    "            'id', 'equal', 'number', 'semicolon',\n",
    "            'id', 'equal', 'number', 'semicolon',\n",
    "\n",
    "            'id', 'lparen', 'rparen', 'arrow', 'self', 'dot', 'id', 'semicolon',\n",
    "            'id', 'lparen', 'rparen', 'arrow', 'self', 'dot', 'id', 'semicolon',\n",
    "\n",
    "            'id', 'lparen', 'id', 'rparen', 'arrow', 'self', 'dot', 'id', 'destrucOp', 'id',  'semicolon',\n",
    "            'id', 'lparen', 'id', 'rparen', 'arrow', 'self', 'dot', 'id', 'destrucOp', 'id',  'semicolon',\n",
    "        'rbrace',\n",
    "\n",
    "        'number', 'semicolon',\n",
    "        '$']]\n",
    ")\n",
    "\n",
    "node.root.print([0], 0, True)"
   ]
  },
  {
   "cell_type": "markdown",
   "metadata": {},
   "source": [
    "### Test 8"
   ]
  },
  {
   "cell_type": "code",
   "execution_count": null,
   "metadata": {},
   "outputs": [
    {
     "name": "stdout",
     "output_type": "stream",
     "text": [
      "Parsing error, no transition for $ at state 1\n",
      "\n",
      "ERROR:∅\n"
     ]
    }
   ],
   "source": [
    "node = tableHulk.parse(\n",
    "    [Token(x, x, 0, 0) for x in [\n",
    "        'lbrace',\n",
    "        'let', 'id', 'equal', 'number', 'in', 'id', 'lparen', 'if', 'lparen', 'id', 'modOp', 'number', 'doubleEqual', 'number', 'rparen', 'number', 'else', 'number','rparen', 'semicolon',\n",
    "        \n",
    "        'let', 'id', 'equal', 'number', 'in',\n",
    "            'if', 'lparen', 'id', 'modOp', 'number', 'doubleEqual', 'number', 'rparen',\n",
    "            'lbrace',\n",
    "                'id', 'lparen', 'id', 'rparen', 'semicolon',\n",
    "                'id', 'lparen', 'string', 'rparen', 'semicolon',\n",
    "            'rbrace',\n",
    "            'else', 'id', 'lparen', 'string', 'rparen', 'semicolon',\n",
    "        'rbrace', 'semicolon',\n",
    "        '$']]\n",
    ")\n",
    "\n",
    "node.root.print([0], 0, True)"
   ]
  },
  {
   "cell_type": "markdown",
   "metadata": {},
   "source": [
    "### Test 9"
   ]
  },
  {
   "cell_type": "code",
   "execution_count": null,
   "metadata": {},
   "outputs": [
    {
     "name": "stdout",
     "output_type": "stream",
     "text": [
      "Parsing error, no transition for $ at state 1\n",
      "\n",
      "ERROR:∅\n"
     ]
    }
   ],
   "source": [
    "node = tableHulk.parse(\n",
    "    [Token(x, x, 0, 0) for x in [\n",
    "        'function', 'id', 'lparen', 'id', 'comma', 'id', 'rparen', 'arrow', 'while', 'lparen', 'id', 'greater', 'number', 'rparen',\n",
    "        'let', 'id', 'equal', 'id', 'modOp', 'id', 'in',\n",
    "        'lbrace',\n",
    "            'id', 'destrucOp', 'id', 'semicolon',\n",
    "            'id', 'destrucOp', 'id', 'semicolon',\n",
    "        'rbrace', 'semicolon',\n",
    "        \n",
    "        'let', 'id', 'equal', 'id', 'lparen', 'number', 'comma', 'number', 'rparen', 'in',\n",
    "            'while', 'lparen', 'id', 'dot', 'id', 'lparen', 'rparen', 'rparen',\n",
    "                'let', 'id', 'equal', 'id', 'dot', 'id', 'lparen', 'rparen', 'in', \n",
    "                    'id', 'lparen', 'id', 'rparen', 'semicolon',\n",
    "        '$']]\n",
    ")\n",
    "\n",
    "node.root.print([0], 0, True)"
   ]
  },
  {
   "cell_type": "markdown",
   "metadata": {},
   "source": [
    "### Test 10"
   ]
  },
  {
   "cell_type": "code",
   "execution_count": null,
   "metadata": {},
   "outputs": [
    {
     "name": "stdout",
     "output_type": "stream",
     "text": [
      "Parsing error, no transition for $ at state 1\n",
      "\n",
      "ERROR:∅\n"
     ]
    }
   ],
   "source": [
    "node = tableHulk.parse(\n",
    "    [Token(x, x, 0, 0) for x in [\n",
    "        'type', 'id', 'lparen', 'id', 'colon', 'id', 'comma', 'id', 'colon', 'id', 'rparen',\n",
    "        'lbrace',\n",
    "            'id', 'equal', 'id', 'semicolon',\n",
    "            'id', 'equal', 'id', 'semicolon',\n",
    "            'id', 'equal', 'id', 'minus', 'number','semicolon',\n",
    "\n",
    "            'id', 'lparen', 'rparen', 'colon', 'id', 'arrow', 'lparen', 'self', 'dot', 'id', 'destrucOp', 'self', 'dot', 'id', 'plus', 'number', 'rparen', 'less', 'id', 'semicolon',\n",
    "        'rbrace',\n",
    "\n",
    "        'protocol', 'id',\n",
    "        'lbrace',\n",
    "            'id', 'lparen', 'id', 'colon', 'id', 'rparen', 'colon', 'id', 'semicolon',\n",
    "            'id', 'lparen', 'rparen', 'colon', 'id', 'semicolon',\n",
    "        'rbrace',\n",
    "        \n",
    "        'protocol', 'id', 'extends', 'id',\n",
    "        'lbrace',\n",
    "            'id', 'lparen', 'id', 'colon', 'id', 'rparen', 'colon', 'id', 'semicolon',\n",
    "            'id', 'lparen', 'rparen', 'colon', 'id', 'semicolon',\n",
    "        'rbrace',\n",
    "\n",
    "        'lbrace',\n",
    "\n",
    "        'let', 'id', 'equal', 'lbracket', 'id', 'doubleOr', 'id', 'in', 'id', 'lparen', 'id', 'comma', 'id', 'rparen', 'rbracket', 'in', 'id', 'lparen', 'id', 'rparen', 'semicolon',\n",
    "\n",
    "        'let', 'id', 'equal', 'lbracket', 'number', 'comma', 'number', 'comma', 'number', 'comma', 'number', 'comma', 'number', 'rbracket', 'in',\n",
    "        'for', 'lparen', 'id', 'in', 'id', 'rparen',\n",
    "            'id', 'lparen', 'id', 'rparen', 'semicolon',\n",
    "\n",
    "        'lparen', 'id', 'rparen', 'dot', 'id', 'semicolon',\n",
    "\n",
    "        'let', 'id', 'equal', 'new', 'id', 'lparen', 'number', 'comma', 'id', 'rparen', 'in', 'id', 'lparen', 'id', 'rparen', 'semicolon',\n",
    "        'rbrace', 'semicolon',\n",
    "        '$']]\n",
    ")\n",
    "\n",
    "node.root.print([0], 0, True)"
   ]
  }
 ],
 "metadata": {
  "kernelspec": {
   "display_name": "Python 3",
   "language": "python",
   "name": "python3"
  },
  "language_info": {
   "codemirror_mode": {
    "name": "ipython",
    "version": 3
   },
   "file_extension": ".py",
   "mimetype": "text/x-python",
   "name": "python",
   "nbconvert_exporter": "python",
   "pygments_lexer": "ipython3",
   "version": "3.12.3"
  }
 },
 "nbformat": 4,
 "nbformat_minor": 2
}
